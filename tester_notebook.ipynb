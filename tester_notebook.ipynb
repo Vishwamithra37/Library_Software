{
 "cells": [
  {
   "cell_type": "code",
   "execution_count": 1,
   "metadata": {},
   "outputs": [
    {
     "data": {
      "text/plain": [
       "'b109f3bbbc244eb82441917ed06d618b9008dd09b3befd1b5e07394c706a8bb980b1d7785e5976ec049b46df5f1326af5a2ea6d103fd07c95385ffab0cacbc86'"
      ]
     },
     "execution_count": 1,
     "metadata": {},
     "output_type": "execute_result"
    }
   ],
   "source": [
    "\n",
    "import dbops\n",
    "dbops.hash512(\"password\")"
   ]
  },
  {
   "cell_type": "code",
   "execution_count": 1,
   "metadata": {},
   "outputs": [],
   "source": [
    "import config \n",
    "\n",
    "dab = config.DB[config.DATABASE]\n",
    "\n"
   ]
  },
  {
   "cell_type": "code",
   "execution_count": 3,
   "metadata": {},
   "outputs": [
    {
     "data": {
      "text/plain": [
       "<pymongo.results.InsertOneResult at 0x144932798c0>"
      ]
     },
     "execution_count": 3,
     "metadata": {},
     "output_type": "execute_result"
    }
   ],
   "source": [
    "dac=dab[\"CONFIGS\"]\n",
    "inserter={\n",
    "    \"Config_Name\":\"Book_Tag_Options\"\n",
    "}\n",
    "dac.insert_one(inserter)"
   ]
  },
  {
   "cell_type": "code",
   "execution_count": 3,
   "metadata": {},
   "outputs": [],
   "source": [
    "# Simple reset.\n",
    "dab[\"BOOKS\"].drop()\n",
    "dab[\"UNIQUE_BOOK_IDS\"].drop()\n",
    "dab[\"OLD_UNIQUE_BOOK_IDS_RECORDS\"].drop()\n",
    "dab[\"RENTS\"].drop()\n",
    "dab[\"RENT_RECORDS\"].drop()"
   ]
  },
  {
   "cell_type": "code",
   "execution_count": 3,
   "metadata": {},
   "outputs": [
    {
     "data": {
      "text/plain": [
       "<pymongo.results.InsertOneResult at 0x24db08a6c40>"
      ]
     },
     "execution_count": 3,
     "metadata": {},
     "output_type": "execute_result"
    }
   ],
   "source": [
    "dac=dab[\"CONFIGS\"]\n",
    "inserter={\n",
    "    \"Config_Name\":\"PERMISSIONS_DICTIONARY\",\n",
    "    \"Role_Permission_Dictionary\":{\n",
    "    \"Admin\":[\n",
    "    \"register_book\",\n",
    "    \"login\",\n",
    "    \"get_book_tags\",\n",
    "    \"get_book_list\",\n",
    "    \"get_user_list\",\n",
    "    \"admin_rent_book\",\n",
    "    \"get_specific_user_list\",\n",
    "    \"get_specific_book_details\",\n",
    "    \"dashboard_page\",\n",
    "    \"get_unique_book_ids\",\n",
    "    \"get_unique_book_ids_returns\",\n",
    "    \"admin_return_book\",\n",
    "    \"admin_scanner_actions\",\n",
    "    \"admin_edit_book\"\n",
    "  ],\n",
    "  \"Staff\":[\n",
    "    \"login\",\n",
    "    \"get_book_tags\",\n",
    "    \"get_book_list\",\n",
    "     \"get_user_list\",\n",
    "         \"dashboard_page\",\n",
    "  ],\n",
    "  \"Student\":[\n",
    "          \"login\",\n",
    "    \"get_book_tags\",\n",
    "    \"get_book_list\",\n",
    "     \"get_user_list\",\n",
    "         \"dashboard_page\",\n",
    "      \n",
    "  ],\n",
    "  \"Staff\":[\n",
    "          \"login\",\n",
    "    \"get_book_tags\",\n",
    "    \"get_book_list\",\n",
    "     \"get_user_list\",\n",
    "         \"dashboard_page\",\n",
    "  ],\n",
    "  \"Other\":[\n",
    "          \"login\",\n",
    "    \"get_book_tags\",\n",
    "    \"get_book_list\",\n",
    "     \"get_user_list\",\n",
    "         \"dashboard_page\",\n",
    "  ]\n",
    "    },\n",
    "  \"Roles_List\":[\n",
    "    \"Admin\",\n",
    "    \"Staff\",\n",
    "    \"Student\",\n",
    "    \"Other\"\n",
    "  ],\n",
    "}\n",
    "dac.insert_one(inserter)"
   ]
  },
  {
   "cell_type": "code",
   "execution_count": 12,
   "metadata": {},
   "outputs": [
    {
     "ename": "ValueError",
     "evalue": "could not convert string to float: '556465a4.56498'",
     "output_type": "error",
     "traceback": [
      "\u001b[1;31m---------------------------------------------------------------------------\u001b[0m",
      "\u001b[1;31mValueError\u001b[0m                                Traceback (most recent call last)",
      "\u001b[1;32m~\\AppData\\Local\\Temp/ipykernel_13928/3122815771.py\u001b[0m in \u001b[0;36m<module>\u001b[1;34m\u001b[0m\n\u001b[0;32m      1\u001b[0m \u001b[0mr1\u001b[0m\u001b[1;33m=\u001b[0m\u001b[1;34m\"556465a4.56498\"\u001b[0m\u001b[1;33m\u001b[0m\u001b[1;33m\u001b[0m\u001b[0m\n\u001b[1;32m----> 2\u001b[1;33m \u001b[0mprint\u001b[0m\u001b[1;33m(\u001b[0m\u001b[0mfloat\u001b[0m\u001b[1;33m(\u001b[0m\u001b[0mr1\u001b[0m\u001b[1;33m)\u001b[0m\u001b[1;33m)\u001b[0m\u001b[1;33m\u001b[0m\u001b[1;33m\u001b[0m\u001b[0m\n\u001b[0m\u001b[0;32m      3\u001b[0m \u001b[1;31m# Verify\u001b[0m\u001b[1;33m\u001b[0m\u001b[1;33m\u001b[0m\u001b[1;33m\u001b[0m\u001b[0m\n",
      "\u001b[1;31mValueError\u001b[0m: could not convert string to float: '556465a4.56498'"
     ]
    }
   ],
   "source": [
    "r1=\"556465a4.56498\"\n",
    "print(float(r1))\n",
    "# Verify "
   ]
  },
  {
   "cell_type": "code",
   "execution_count": null,
   "metadata": {},
   "outputs": [
    {
     "ename": "",
     "evalue": "",
     "output_type": "error",
     "traceback": [
      "\u001b[1;31mRunning cells with 'apples' requires the ipykernel package.\n",
      "\u001b[1;31mRun the following command to install 'ipykernel' into the Python environment. \n",
      "\u001b[1;31mCommand: 'e:/2Semmasters/Siriscilla_degree_college/LibSoftware/apples/Scripts/python.exe -m pip install ipykernel -U --force-reinstall'"
     ]
    }
   ],
   "source": [
    "import qrcode\n",
    "from PIL import Image, ImageDraw, ImageFont\n",
    " \n",
    "\n",
    "# Text to display below the QR code\n",
    "text_below_qr = \"Your Text Here\"\n",
    "\n",
    "\n",
    "\n",
    "# Create an image from the QR code\n",
    "with open(\"qr.png\", \"rb\") as qr:\n",
    "    qr_img = Image.open(qr).copy()\n",
    "\n",
    "# Add text below the QR code\n",
    "draw = ImageDraw.Draw(qr_img)\n",
    "font = ImageFont.load_default()  # You can choose a different font and size if needed\n",
    "w, h = draw.textsize(text_below_qr, font=font)\n",
    "draw.text(((qr_img.size[0] - w) / 2, (qr_img.size[1] - h) - 10), text_below_qr, font=font)\n",
    "qr_img.save(\"qr_code.png\")\n"
   ]
  },
  {
   "cell_type": "code",
   "execution_count": 2,
   "metadata": {},
   "outputs": [],
   "source": [
    "dac=dab[\"UNIQUE_BOOK_IDS\"]\n",
    "import json\n",
    "r1=dac.find_one({\"author\":\"Mata vinakunte \"},{\"BOOK_ID\":1,\"organization\":1,\"_id\":1})\n",
    "\n",
    "{\n",
    "        \"Book_id\": \"64c4df1dc6f7f2ad4da3530c\",\n",
    "        \"Organization\": \"GTSocial\",\n",
    "        \"unique_book_id\":\"lifethodihardhai\",\n",
    "        \"card_type\":\"Book_card\"\n",
    "}\n",
    "# print(r1)\n",
    "r1[\"unique_book_id\"]=str(r1[\"_id\"])\n",
    "r1[\"card_type\"]=\"Book_card\"\n",
    "r1[\"Organization\"]=r1[\"organization\"]\n",
    "r1[\"Book_id\"]=r1[\"BOOK_ID\"]\n",
    "del r1[\"BOOK_ID\"]\n",
    "del r1[\"organization\"]\n",
    "r1.pop(\"_id\")\n",
    "# Take all values and string them together\n",
    " #                    0                          1                 2                 3\n",
    "final_string=r1[\"unique_book_id\"]+\"-\"+r1[\"Organization\"]+\"-\"+r1[\"Book_id\"]+\"-\"+r1[\"card_type\"]\n",
    "\n",
    "\n",
    "\n"
   ]
  },
  {
   "cell_type": "code",
   "execution_count": 1,
   "metadata": {},
   "outputs": [
    {
     "name": "stdout",
     "output_type": "stream",
     "text": [
      "GTSocial\n",
      "[{'user_all_time_total_dues_counter': 1,\n",
      "  'user_all_user_total_penality': 10,\n",
      "  'user_current_active_rents': 1,\n",
      "  'user_total_amount_paid': 0,\n",
      "  'user_total_books_taken_for_rent': 7,\n",
      "  'user_total_users': 2},\n",
      " {'books_noofcopies_books_available_currently': 13,\n",
      "  'books_noofcopies_rented_currently': 1,\n",
      "  'books_nooftimes_books_have_been_rented': 7,\n",
      "  'books_total_number_of_books_registered': 3},\n",
      " {'card_data': [{'author': 'KBM2',\n",
      "                 'book_name': 'KOTHA BOOK MAWA2',\n",
      "                 'book_tags': ['Honebells', 'Honess'],\n",
      "                 'email': 'Ramta@gmail.com',\n",
      "                 'id_number': '5s6dfa1ad6s5f4',\n",
      "                 'overduefor': 4,\n",
      "                 'penality': 10,\n",
      "                 'rented_for': '3',\n",
      "                 'rented_on': '2023-09-25 21:29:20.410236',\n",
      "                 'role': 'Student',\n",
      "                 'user_name': 'Ramta jogi'}],\n",
      "  'penality': 10,\n",
      "  'total_number_of_overdue_books': 1,\n",
      "  'total_penality': 20}]\n"
     ]
    }
   ],
   "source": [
    "import dbops\n",
    "from pprint import pprint as print\n",
    "print(dbops.getters.get_simple_meta_data(\"GTSocial\"))"
   ]
  },
  {
   "cell_type": "code",
   "execution_count": 2,
   "metadata": {},
   "outputs": [
    {
     "data": {
      "text/plain": [
       "<pymongo.results.InsertOneResult at 0x24000b44e80>"
      ]
     },
     "execution_count": 2,
     "metadata": {},
     "output_type": "execute_result"
    }
   ],
   "source": [
    "dac=dab[\"CONFIGS\"]\n",
    "inserter={\n",
    "    \"Config_Name\":\"Library_parameters\",\n",
    "    \"GTSocial\":{\n",
    "          \"Day_Penality\":10,\n",
    "          \"Month_Penality\":100,\n",
    "          \"Year_Penality\":1000,\n",
    "    }\n",
    "}\n",
    "dac.insert_one(inserter)"
   ]
  },
  {
   "cell_type": "code",
   "execution_count": 5,
   "metadata": {},
   "outputs": [
    {
     "data": {
      "text/plain": [
       "'sdsd'"
      ]
     },
     "execution_count": 5,
     "metadata": {},
     "output_type": "execute_result"
    }
   ],
   "source": [
    "r1=\"sdsd  \"\n",
    "r1.strip()"
   ]
  },
  {
   "cell_type": "code",
   "execution_count": 2,
   "metadata": {},
   "outputs": [
    {
     "data": {
      "text/plain": [
       "<pymongo.results.UpdateResult at 0x1d499ef8a40>"
      ]
     },
     "execution_count": 2,
     "metadata": {},
     "output_type": "execute_result"
    }
   ],
   "source": [
    "dac=dab[\"BOOKS\"]\n",
    "updae={\n",
    "    \"$set\":{\n",
    "        \"organization\":\"GTSocial\"\n",
    "    }\n",
    "}\n",
    "dac.update_many({},updae)"
   ]
  },
  {
   "cell_type": "code",
   "execution_count": 3,
   "metadata": {},
   "outputs": [
    {
     "data": {
      "text/plain": [
       "True"
      ]
     },
     "execution_count": 3,
     "metadata": {},
     "output_type": "execute_result"
    }
   ],
   "source": [
    "import dbops\n",
    "import json\n",
    "dbops.QR_code_operations.generate_QR(final_string)"
   ]
  },
  {
   "cell_type": "code",
   "execution_count": 2,
   "metadata": {},
   "outputs": [
    {
     "name": "stdout",
     "output_type": "stream",
     "text": [
      "{'_id': ObjectId('64c0f05a6cced1e7805d4703'), 'email': 'tester@gmail.com', 'id_number': '123456789', 'organization': ['GTSocial']}\n",
      "64c0f05a6cced1e7805d4703-GTSocial-tester@gmail.com-Identity_card\n"
     ]
    }
   ],
   "source": [
    "dac=dab[\"USERS\"]\n",
    "r1=dac.find_one({\"email\":\"tester@gmail.com\"},{\"_id\":1,\"email\":1,\"id_number\":1,\"organization\":1})\n",
    "print(r1)\n",
    "final_string=str(r1[\"_id\"])+\"-\"+r1[\"organization\"][0]+\"-\"+r1[\"email\"]+\"-\"+\"Identity_card\"\n",
    "print(final_string)"
   ]
  },
  {
   "cell_type": "code",
   "execution_count": 6,
   "metadata": {},
   "outputs": [
    {
     "name": "stdout",
     "output_type": "stream",
     "text": [
      "fasdfui asdfu aisdfj asdf\n"
     ]
    }
   ],
   "source": [
    "kq=\"fasdfui asdfu aisdfj asdf \"\n",
    "print(kq.strip())"
   ]
  },
  {
   "cell_type": "code",
   "execution_count": 2,
   "metadata": {},
   "outputs": [
    {
     "data": {
      "text/plain": [
       "[{'User_Email': 'tester@gmail.com',\n",
       "  'User_Name': 'testuser',\n",
       "  'Book_Rented_On': '2023-11-11 15:17:00.193274',\n",
       "  'authorizer_email': 'tester@gmail.com',\n",
       "  'rentedfor': '7',\n",
       "  'unique_book_id': '651a90c7be1911bf45d1df74',\n",
       "  'potential_penality': 40,\n",
       "  'time_difference': 11}]"
      ]
     },
     "execution_count": 2,
     "metadata": {},
     "output_type": "execute_result"
    }
   ],
   "source": [
    "import dbops\n",
    "\n",
    "dbops.getters.get_all_rented_book_list(0,10,\"GTSocial\")"
   ]
  },
  {
   "cell_type": "code",
   "execution_count": 1,
   "metadata": {},
   "outputs": [
    {
     "name": "stdout",
     "output_type": "stream",
     "text": [
      "Decorating the toy!\n",
      "Playing with my toy!\n",
      "Putting the toy back in the box!\n"
     ]
    }
   ],
   "source": [
    "# This is your toy (function)\n",
    "def my_toy():\n",
    "    print(\"Playing with my toy!\")\n",
    "\n",
    "# This is your decorator (special wrapper paper)\n",
    "def toy_decorator(func):\n",
    "    def wrapper():\n",
    "        print(\"Decorating the toy!\")\n",
    "        func()  # This is where you play with the original toy\n",
    "        print(\"Putting the toy back in the box!\")\n",
    "    return wrapper\n",
    "\n",
    "# Now, let's use the decorator!\n",
    "decorated_toy = toy_decorator(my_toy)\n",
    "\n",
    "# Play with the decorated toy\n",
    "decorated_toy()\n"
   ]
  },
  {
   "cell_type": "code",
   "execution_count": 4,
   "metadata": {},
   "outputs": [
    {
     "name": "stdout",
     "output_type": "stream",
     "text": [
      "This is a special toy!\n",
      "Playing with my toy!\n",
      "Putting the toy back in the box!\n"
     ]
    }
   ],
   "source": [
    "# This is your toy (function)\n",
    "def my_toy():\n",
    "    print(\"Playing with my toy!\")\n",
    "\n",
    "# This is your decorator (special wrapper paper)\n",
    "def toy_decorator(func):\n",
    "    # This is the label card function\n",
    "    def label_card():\n",
    "        # func()\n",
    "        print(\"This is a special toy!\")\n",
    "\n",
    "    # This is the wrapper function\n",
    "    def wrapper():\n",
    "        label_card()  # Attach the label card\n",
    "        func()        # This is where you play with the original toy\n",
    "        print(\"Putting the toy back in the box!\")\n",
    "\n",
    "    return wrapper\n",
    "\n",
    "# Now, let's use the decorator!\n",
    "decorated_toy = toy_decorator(my_toy)\n",
    "\n",
    "# Play with the decorated toy\n",
    "decorated_toy()\n"
   ]
  },
  {
   "cell_type": "code",
   "execution_count": 1,
   "metadata": {},
   "outputs": [
    {
     "data": {
      "text/plain": [
       "'sss'"
      ]
     },
     "execution_count": 1,
     "metadata": {},
     "output_type": "execute_result"
    }
   ],
   "source": [
    "r1={\"eaal\":\"sss\"}\n",
    "r1.get(\"eaal\")"
   ]
  },
  {
   "cell_type": "code",
   "execution_count": null,
   "metadata": {},
   "outputs": [],
   "source": [
    "r1={\n",
    "  \"username\": \"testuser\",\n",
    "  \"password\": \"e9e633097ab9ceb3e48ec3f70ee2beba41d05d5420efee5da85f97d97005727587fda33ef4ff2322088f4c79e8133cc9cd9f3512f4d3a303cbdb5bc585415a00\",\n",
    "  \"email\": \"tester@gmail.com\",\n",
    "  \"id_number\": \"123456789\",\n",
    "  \"Role\": \"Student\",\n",
    "  \"permissions\": [\n",
    "    \"register_book\",\n",
    "    \"login\",\n",
    "    \"logout_api\",\n",
    "    \"get_book_tags\",\n",
    "    \"simple_meta_data\",\n",
    "    \"get_book_list\",\n",
    "    \"get_user_list\",\n",
    "    \"admin_rent_book\",\n",
    "    \"get_specific_user_list\",\n",
    "    \"get_specific_book_details\",\n",
    "    \"dashboard_page\",\n",
    "    \"get_unique_book_ids\",\n",
    "    \"get_unique_book_ids_returns\",\n",
    "    \"admin_return_book\",\n",
    "    \"admin_scanner_actions\",\n",
    "    \"admin_edit_book\",\n",
    "    \"admin_register_api_passwordless\",\n",
    "    \"delete_admin_book\",\n",
    "    \"admin_add_user_payment\",\n",
    "    \"get_rented_book_list\",\n",
    "    \"get_book_list_special_filter\"\n",
    "  ],\n",
    "  \"Library\": {\n",
    "    \"Number_of_books_rented_currently\": 2,\n",
    "    \"Number_of_books_returned\": 0,\n",
    "    \"Number_of_times_overdue\": 0,\n",
    "    \"Total_Number_of_books_rented\": 2,\n",
    "    \"Total_fine_amount\": 0,\n",
    "    \"Total_fine_amount_paid\": 0,\n",
    "    \"Total_fine_amount_pending\": 0,\n",
    "    \"Total_fine_amount_waived\": 0,\n",
    "    \"GTSocial\": {\n",
    "      \"Number_of_books_rented_currently\": 0,\n",
    "      \"Total_Number_of_books_rented\": 2,\n",
    "      \"Total_amount_paid\": 515,\n",
    "      \"Number_of_books_returned\": 2,\n",
    "      \"Number_of_times_overdue\": 2,\n",
    "      \"Total_fine_amount\": 480\n",
    "    }\n",
    "  },\n",
    "  \"organization\": [\n",
    "    \"GTSocial\"\n",
    "  ]\n",
    "}\n",
    "dac=dab[\"USERS\"]\n",
    "dac.insert_one(r1)"
   ]
  },
  {
   "cell_type": "code",
   "execution_count": null,
   "metadata": {},
   "outputs": [],
   "source": [
    "r2={\n",
    "  \"_id\": {\n",
    "    \"$oid\": \"651692d09e401cd3b53439a6\"\n",
    "  },\n",
    "  \"Config_Name\": \"PERMISSIONS_DICTIONARY\",\n",
    "  \"Role_Permission_Dictionary\": {\n",
    "    \"Admin\": [\n",
    "      \"register_book\",\n",
    "      \"login\",\n",
    "      \"get_book_tags\",\n",
    "      \"get_book_list\",\n",
    "      \"get_user_list\",\n",
    "      \"admin_rent_book\",\n",
    "      \"get_specific_user_list\",\n",
    "      \"get_specific_book_details\",\n",
    "      \"dashboard_page\",\n",
    "      \"get_unique_book_ids\",\n",
    "      \"get_unique_book_ids_returns\",\n",
    "      \"admin_return_book\",\n",
    "      \"admin_scanner_actions\",\n",
    "      \"admin_edit_book\"\n",
    "    ],\n",
    "    \"Staff\": [\n",
    "      \"login\",\n",
    "      \"get_book_tags\",\n",
    "      \"get_book_list\",\n",
    "      \"get_user_list\",\n",
    "      \"dashboard_page\"\n",
    "    ],\n",
    "    \"Student\": [\n",
    "      \"login\",\n",
    "      \"get_book_tags\",\n",
    "      \"get_book_list\",\n",
    "      \"get_user_list\",\n",
    "      \"dashboard_page\"\n",
    "    ],\n",
    "    \"Other\": [\n",
    "      \"login\",\n",
    "      \"get_book_tags\",\n",
    "      \"get_book_list\",\n",
    "      \"get_user_list\",\n",
    "      \"dashboard_page\"\n",
    "    ]\n",
    "  },\n",
    "  \"Roles_List\": [\n",
    "    \"Admin\",\n",
    "    \"Staff\",\n",
    "    \"Student\",\n",
    "    \"Other\"\n",
    "  ],\n",
    "  \"organization\": \"GTSocial\"\n",
    "}\n",
    "dac=dab[\"CONFIGS\"]\n",
    "dac.insert_one(r2)"
   ]
  }
 ],
 "metadata": {
  "kernelspec": {
   "display_name": "apples",
   "language": "python",
   "name": "python3"
  },
  "language_info": {
   "codemirror_mode": {
    "name": "ipython",
    "version": 3
   },
   "file_extension": ".py",
   "mimetype": "text/x-python",
   "name": "python",
   "nbconvert_exporter": "python",
   "pygments_lexer": "ipython3",
   "version": "3.9.6"
  },
  "orig_nbformat": 4
 },
 "nbformat": 4,
 "nbformat_minor": 2
}
