{
 "cells": [
  {
   "cell_type": "code",
   "execution_count": 1,
   "metadata": {},
   "outputs": [
    {
     "data": {
      "text/plain": [
       "'b109f3bbbc244eb82441917ed06d618b9008dd09b3befd1b5e07394c706a8bb980b1d7785e5976ec049b46df5f1326af5a2ea6d103fd07c95385ffab0cacbc86'"
      ]
     },
     "execution_count": 1,
     "metadata": {},
     "output_type": "execute_result"
    }
   ],
   "source": [
    "\n",
    "import dbops\n",
    "dbops.hash512(\"password\")"
   ]
  },
  {
   "cell_type": "code",
   "execution_count": 1,
   "metadata": {},
   "outputs": [],
   "source": [
    "import config \n",
    "\n",
    "dab = config.DB[config.DATABASE]\n",
    "\n"
   ]
  },
  {
   "cell_type": "code",
   "execution_count": 3,
   "metadata": {},
   "outputs": [
    {
     "data": {
      "text/plain": [
       "<pymongo.results.InsertOneResult at 0x144932798c0>"
      ]
     },
     "execution_count": 3,
     "metadata": {},
     "output_type": "execute_result"
    }
   ],
   "source": [
    "dac=dab[\"CONFIGS\"]\n",
    "inserter={\n",
    "    \"Config_Name\":\"Book_Tag_Options\"\n",
    "}\n",
    "dac.insert_one(inserter)"
   ]
  },
  {
   "cell_type": "code",
   "execution_count": 3,
   "metadata": {},
   "outputs": [
    {
     "data": {
      "text/plain": [
       "<pymongo.results.InsertOneResult at 0x24db08a6c40>"
      ]
     },
     "execution_count": 3,
     "metadata": {},
     "output_type": "execute_result"
    }
   ],
   "source": [
    "dac=dab[\"CONFIGS\"]\n",
    "inserter={\n",
    "    \"Config_Name\":\"PERMISSIONS_DICTIONARY\",\n",
    "    \"Role_Permission_Dictionary\":{\n",
    "    \"Admin\":[\n",
    "    \"register_book\",\n",
    "    \"login\",\n",
    "    \"get_book_tags\",\n",
    "    \"get_book_list\",\n",
    "    \"get_user_list\",\n",
    "    \"admin_rent_book\",\n",
    "    \"get_specific_user_list\",\n",
    "    \"get_specific_book_details\",\n",
    "    \"dashboard_page\",\n",
    "    \"get_unique_book_ids\",\n",
    "    \"get_unique_book_ids_returns\",\n",
    "    \"admin_return_book\",\n",
    "    \"admin_scanner_actions\",\n",
    "    \"admin_edit_book\"\n",
    "  ],\n",
    "  \"Staff\":[\n",
    "    \"login\",\n",
    "    \"get_book_tags\",\n",
    "    \"get_book_list\",\n",
    "     \"get_user_list\",\n",
    "         \"dashboard_page\",\n",
    "  ],\n",
    "  \"Student\":[\n",
    "          \"login\",\n",
    "    \"get_book_tags\",\n",
    "    \"get_book_list\",\n",
    "     \"get_user_list\",\n",
    "         \"dashboard_page\",\n",
    "      \n",
    "  ],\n",
    "  \"Staff\":[\n",
    "          \"login\",\n",
    "    \"get_book_tags\",\n",
    "    \"get_book_list\",\n",
    "     \"get_user_list\",\n",
    "         \"dashboard_page\",\n",
    "  ],\n",
    "  \"Other\":[\n",
    "          \"login\",\n",
    "    \"get_book_tags\",\n",
    "    \"get_book_list\",\n",
    "     \"get_user_list\",\n",
    "         \"dashboard_page\",\n",
    "  ]\n",
    "    },\n",
    "  \"Roles_List\":[\n",
    "    \"Admin\",\n",
    "    \"Staff\",\n",
    "    \"Student\",\n",
    "    \"Other\"\n",
    "  ],\n",
    "}\n",
    "dac.insert_one(inserter)"
   ]
  },
  {
   "cell_type": "code",
   "execution_count": 14,
   "metadata": {},
   "outputs": [],
   "source": [
    "dac=dab[\"UNIQUE_BOOK_IDS\"]\n",
    "import json\n",
    "r1=dac.find_one({\"author\":\"RLSTINE\"},{\"BOOK_ID\":1,\"organization\":1,\"_id\":1})\n",
    "\n",
    "{\n",
    "        \"Book_id\": \"64c4df1dc6f7f2ad4da3530c\",\n",
    "        \"Organization\": \"GTSocial\",\n",
    "        \"unique_book_id\":\"lifethodihardhai\",\n",
    "        \"card_type\":\"Book_card\"\n",
    "}\n",
    "# print(r1)\n",
    "r1[\"unique_book_id\"]=str(r1[\"_id\"])\n",
    "r1[\"card_type\"]=\"Book_card\"\n",
    "r1[\"Organization\"]=r1[\"organization\"]\n",
    "r1[\"Book_id\"]=r1[\"BOOK_ID\"]\n",
    "del r1[\"BOOK_ID\"]\n",
    "del r1[\"organization\"]\n",
    "r1.pop(\"_id\")\n",
    "# Take all values and string them together\n",
    " #                    0                          1                 2                 3\n",
    "final_string=r1[\"unique_book_id\"]+\"-\"+r1[\"Organization\"]+\"-\"+r1[\"Book_id\"]+\"-\"+r1[\"card_type\"]\n",
    "\n",
    "\n",
    "\n"
   ]
  },
  {
   "cell_type": "code",
   "execution_count": 1,
   "metadata": {},
   "outputs": [
    {
     "name": "stdout",
     "output_type": "stream",
     "text": [
      "GTSocial\n",
      "[{'user_all_time_total_dues_counter': 1,\n",
      "  'user_all_user_total_penality': 10,\n",
      "  'user_current_active_rents': 1,\n",
      "  'user_total_amount_paid': 0,\n",
      "  'user_total_books_taken_for_rent': 7,\n",
      "  'user_total_users': 2},\n",
      " {'books_noofcopies_books_available_currently': 13,\n",
      "  'books_noofcopies_rented_currently': 1,\n",
      "  'books_nooftimes_books_have_been_rented': 7,\n",
      "  'books_total_number_of_books_registered': 3},\n",
      " {'card_data': [{'author': 'KBM2',\n",
      "                 'book_name': 'KOTHA BOOK MAWA2',\n",
      "                 'book_tags': ['Honebells', 'Honess'],\n",
      "                 'email': 'Ramta@gmail.com',\n",
      "                 'id_number': '5s6dfa1ad6s5f4',\n",
      "                 'overduefor': 4,\n",
      "                 'penality': 10,\n",
      "                 'rented_for': '3',\n",
      "                 'rented_on': '2023-09-25 21:29:20.410236',\n",
      "                 'role': 'Student',\n",
      "                 'user_name': 'Ramta jogi'}],\n",
      "  'penality': 10,\n",
      "  'total_number_of_overdue_books': 1,\n",
      "  'total_penality': 20}]\n"
     ]
    }
   ],
   "source": [
    "import dbops\n",
    "from pprint import pprint as print\n",
    "print(dbops.getters.get_simple_meta_data(\"GTSocial\"))"
   ]
  },
  {
   "cell_type": "code",
   "execution_count": 2,
   "metadata": {},
   "outputs": [
    {
     "data": {
      "text/plain": [
       "<pymongo.results.InsertOneResult at 0x24000b44e80>"
      ]
     },
     "execution_count": 2,
     "metadata": {},
     "output_type": "execute_result"
    }
   ],
   "source": [
    "dac=dab[\"CONFIGS\"]\n",
    "inserter={\n",
    "    \"Config_Name\":\"Library_parameters\",\n",
    "    \"GTSocial\":{\n",
    "          \"Day_Penality\":10,\n",
    "          \"Month_Penality\":100,\n",
    "          \"Year_Penality\":1000,\n",
    "    }\n",
    "}\n",
    "dac.insert_one(inserter)"
   ]
  },
  {
   "cell_type": "code",
   "execution_count": 5,
   "metadata": {},
   "outputs": [
    {
     "data": {
      "text/plain": [
       "'sdsd'"
      ]
     },
     "execution_count": 5,
     "metadata": {},
     "output_type": "execute_result"
    }
   ],
   "source": [
    "r1=\"sdsd  \"\n",
    "r1.strip()"
   ]
  },
  {
   "cell_type": "code",
   "execution_count": 2,
   "metadata": {},
   "outputs": [
    {
     "data": {
      "text/plain": [
       "<pymongo.results.UpdateResult at 0x1d499ef8a40>"
      ]
     },
     "execution_count": 2,
     "metadata": {},
     "output_type": "execute_result"
    }
   ],
   "source": [
    "dac=dab[\"BOOKS\"]\n",
    "updae={\n",
    "    \"$set\":{\n",
    "        \"organization\":\"GTSocial\"\n",
    "    }\n",
    "}\n",
    "dac.update_many({},updae)"
   ]
  },
  {
   "cell_type": "code",
   "execution_count": 15,
   "metadata": {},
   "outputs": [
    {
     "data": {
      "text/plain": [
       "True"
      ]
     },
     "execution_count": 15,
     "metadata": {},
     "output_type": "execute_result"
    }
   ],
   "source": [
    "import dbops\n",
    "import json\n",
    "dbops.QR_code_operations.generate_QR(final_string)"
   ]
  },
  {
   "cell_type": "code",
   "execution_count": 8,
   "metadata": {},
   "outputs": [
    {
     "name": "stdout",
     "output_type": "stream",
     "text": [
      "{'_id': ObjectId('64c0f05a6cced1e7805d4703'), 'email': 'tester@gmail.com', 'id_number': '123456789', 'organization': ['GTSocial']}\n",
      "64c0f05a6cced1e7805d4703-GTSocial-tester@gmail.com-Identity_card\n"
     ]
    }
   ],
   "source": [
    "dac=dab[\"USERS\"]\n",
    "r1=dac.find_one({\"email\":\"tester@gmail.com\"},{\"_id\":1,\"email\":1,\"id_number\":1,\"organization\":1})\n",
    "print(r1)\n",
    "final_string=str(r1[\"_id\"])+\"-\"+r1[\"organization\"][0]+\"-\"+r1[\"email\"]+\"-\"+\"Identity_card\"\n",
    "print(final_string)"
   ]
  },
  {
   "cell_type": "code",
   "execution_count": null,
   "metadata": {},
   "outputs": [],
   "source": []
  }
 ],
 "metadata": {
  "kernelspec": {
   "display_name": "apples",
   "language": "python",
   "name": "python3"
  },
  "language_info": {
   "codemirror_mode": {
    "name": "ipython",
    "version": 3
   },
   "file_extension": ".py",
   "mimetype": "text/x-python",
   "name": "python",
   "nbconvert_exporter": "python",
   "pygments_lexer": "ipython3",
   "version": "3.9.6"
  },
  "orig_nbformat": 4
 },
 "nbformat": 4,
 "nbformat_minor": 2
}
